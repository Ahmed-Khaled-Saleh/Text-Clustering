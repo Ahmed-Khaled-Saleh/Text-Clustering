{
 "cells": [
  {
   "cell_type": "code",
   "execution_count": 1,
   "id": "4fc7622f",
   "metadata": {},
   "outputs": [
    {
     "name": "stderr",
     "output_type": "stream",
     "text": [
      "[nltk_data] Downloading package stopwords to /home/ahmed/nltk_data...\n",
      "[nltk_data]   Package stopwords is already up-to-date!\n",
      "[nltk_data] Downloading package wordnet to /home/ahmed/nltk_data...\n",
      "[nltk_data]   Package wordnet is already up-to-date!\n",
      "[nltk_data] Downloading package punkt to /home/ahmed/nltk_data...\n",
      "[nltk_data]   Package punkt is already up-to-date!\n",
      "[nltk_data] Downloading package omw-1.4 to /home/ahmed/nltk_data...\n",
      "[nltk_data]   Package omw-1.4 is already up-to-date!\n",
      "/home/ahmed/anaconda3/lib/python3.9/site-packages/scipy/sparse/sparsetools.py:21: DeprecationWarning: `scipy.sparse.sparsetools` is deprecated!\n",
      "scipy.sparse.sparsetools is a private module for scipy.sparse, and should not be used.\n",
      "  _deprecated()\n"
     ]
    }
   ],
   "source": [
    "import urllib.request\n",
    "import random\n",
    "import re\n",
    "import string\n",
    "from warnings import filterwarnings\n",
    "filterwarnings('ignore')\n",
    "import numpy as np\n",
    "import pandas as pd\n",
    "\n",
    "import nltk as nl\n",
    "from nltk.tokenize import word_tokenize\n",
    "from nltk.corpus import stopwords\n",
    "from nltk.corpus import gutenberg\n",
    "from warnings import filterwarnings\n",
    "filterwarnings('ignore')\n",
    "nl.download('stopwords')\n",
    "nl.download('wordnet')\n",
    "nl.download('punkt')\n",
    "nl.download('omw-1.4')\n",
    "stop_words=set(stopwords.words(\"english\"))\n",
    "\n",
    "from pprint import pprint\n",
    "import pyLDAvis.gensim_models as gensimvis\n",
    "import gensim.corpora as corpora\n",
    "import gensim\n",
    "import pyLDAvis\n",
    "\n",
    "from sklearn.feature_extraction.text import TfidfVectorizer\n",
    "from sklearn import preprocessing\n",
    "from sklearn.preprocessing import label_binarize, LabelEncoder\n",
    "le = LabelEncoder()\n",
    "from sklearn.model_selection import train_test_split\n",
    "from sklearn.feature_extraction.text import CountVectorizer, TfidfTransformer"
   ]
  },
  {
   "cell_type": "code",
   "execution_count": 2,
   "id": "a30faf9c",
   "metadata": {},
   "outputs": [],
   "source": [
    "books= [[\"https://www.gutenberg.org/files/1342/1342-0.txt\",\"Jane Austen\"],\n",
    "        [\"https://www.gutenberg.org/files/52766/52766-0.txt\",\"Charles K.Adams \"],\n",
    "        [\"https://www.gutenberg.org/files/67104/67104-0.txt\",\"Bertrand Russel\"],\n",
    "        [\"https://www.gutenberg.org/files/4280/4280-0.txt\",\"Immanuel Kant\"],\n",
    "        [\"https://www.gutenberg.org/cache/epub/20195/pg20195.txt\",\"F. Morley Fletcher\"]\n",
    "       ]"
   ]
  },
  {
   "cell_type": "code",
   "execution_count": 3,
   "id": "4dbc3431",
   "metadata": {},
   "outputs": [],
   "source": [
    "def get_books_before_filter(books:list) -> list:\n",
    "    '''\n",
    "        returns a list of strings, where every string is the book's content.\n",
    "    '''\n",
    "    lst_books_txt = []\n",
    "    for link in books:\n",
    "        with urllib.request.urlopen(link[0]) as book_file:\n",
    "            raw = book_file.read().decode('utf-8')\n",
    "            lst_books_txt.append(raw)\n",
    "    return lst_books_txt\n",
    "\n",
    "#l = get_books_before_filter(books)"
   ]
  },
  {
   "cell_type": "code",
   "execution_count": 4,
   "id": "4e9be9e6",
   "metadata": {},
   "outputs": [],
   "source": [
    "def get_books(books_links:list) -> list:\n",
    "    book_list= []\n",
    "    for book in get_books_before_filter(books_links):\n",
    "        splited_book = re.split(r\"\\r\\n\",book)\n",
    "        good_paragraphs = [paragraph for paragraph in splited_book if len(paragraph)>=60]\n",
    "        book_list.append(\" \".join(good_paragraphs))\n",
    "    return book_list\n",
    "#ls = get_books(books)\n"
   ]
  },
  {
   "cell_type": "code",
   "execution_count": 5,
   "id": "20ce8e13",
   "metadata": {},
   "outputs": [],
   "source": [
    "def pos_tagger(nltk_tag):\n",
    "    if nltk_tag.startswith('J'):\n",
    "        return wordnet.ADJ\n",
    "    elif nltk_tag.startswith('V'):\n",
    "        return wordnet.VERB\n",
    "    elif nltk_tag.startswith('N'):\n",
    "        return wordnet.NOUN\n",
    "    elif nltk_tag.startswith('R'):\n",
    "        return wordnet.ADV\n",
    "    else:         \n",
    "        return None"
   ]
  },
  {
   "cell_type": "code",
   "execution_count": 6,
   "id": "b6b39222",
   "metadata": {},
   "outputs": [],
   "source": [
    "def remove_gutenberg_annotations():\n",
    "    pass\n",
    "\n",
    "def lemmitization():\n",
    "    pass"
   ]
  },
  {
   "cell_type": "code",
   "execution_count": 7,
   "id": "62f0ccb5",
   "metadata": {},
   "outputs": [],
   "source": [
    "def cleanUp(lstTxt: list) -> list:\n",
    "    \n",
    "    '''\n",
    "        1- CleanUp.\n",
    "            1.1 include numbers and alphabets only.\n",
    "            1.2 Change Case to lower case.\n",
    "            1.3 Remove extra spaces.\n",
    "            1.4 remove leading whitespaces.\n",
    "            1.5 Replace punctuation with whitespaces\n",
    "    '''\n",
    "    cleaned_lst = []\n",
    "    for txt in lstTxt:\n",
    "        txt = re.sub(r'[^A-Z a-z]', ' ', txt)# include only alphabets and numbers\n",
    "        txt = re.sub(' +', ' ', txt)# remove extra spaces\n",
    "        txt = txt.lower()#convert to lower case\n",
    "        txt = txt.strip()# remove leading whitespaces\n",
    "        txt = re.compile('[%s]' % re.escape(string.punctuation)).sub(' ', txt) #Replace punctuation with whitespaces\n",
    "        cleaned_lst.append(txt)\n",
    "    return cleaned_lst\n"
   ]
  },
  {
   "cell_type": "code",
   "execution_count": 8,
   "id": "ce0aff76",
   "metadata": {},
   "outputs": [],
   "source": [
    "def stopWordRemoval(book_lst: list) -> list:\n",
    "    l = []\n",
    "    for book in book_lst:\n",
    "        words = word_tokenize(book)\n",
    "        good_tokens = []\n",
    "        for word in words:\n",
    "            if word not in stop_words:\n",
    "                if word not in ['project' ,'gutenberg', 'ebook' ]:\n",
    "                    good_tokens.append(word)\n",
    "        l.append(\" \".join(good_tokens))\n",
    "    return l"
   ]
  },
  {
   "cell_type": "code",
   "execution_count": 9,
   "id": "e1882a3d",
   "metadata": {},
   "outputs": [
    {
     "name": "stderr",
     "output_type": "stream",
     "text": [
      "[nltk_data] Downloading package averaged_perceptron_tagger to\n",
      "[nltk_data]     /home/ahmed/nltk_data...\n",
      "[nltk_data]   Package averaged_perceptron_tagger is already up-to-\n",
      "[nltk_data]       date!\n"
     ]
    }
   ],
   "source": [
    "import nltk\n",
    "from nltk.stem import WordNetLemmatizer\n",
    "nltk.download('averaged_perceptron_tagger')\n",
    "from nltk.corpus import wordnet\n",
    " \n",
    "lemmatizer = WordNetLemmatizer()\n",
    "def applay_lemmatization2(df):\n",
    "    new_df = []\n",
    "    wnl = WordNetLemmatizer()\n",
    "    for i in range(len(df)):\n",
    "        pos_tagged = nltk.pos_tag(nltk.word_tokenize(df['Text'][i]))\n",
    "        wordnet_tagged = list(map(lambda x: (x[0], pos_tagger(x[1])), pos_tagged))\n",
    "        lemmatized_sentence = []\n",
    "        for word, tag in wordnet_tagged:\n",
    "            if tag is None:\n",
    "                lemmatized_sentence.append(word)\n",
    "            else:       \n",
    "                lemmatized_sentence.append(lemmatizer.lemmatize(word, tag))\n",
    "        new_df.append( \" \".join(lemmatized_sentence))\n",
    "\n",
    "    return new_df"
   ]
  },
  {
   "cell_type": "code",
   "execution_count": 10,
   "id": "fcd3f39c",
   "metadata": {},
   "outputs": [],
   "source": [
    "def partitioning(txt:str) -> list:\n",
    "    \n",
    "    '''\n",
    "        This function tries to partition a string into 200 partitions with 150 words for each partition.\n",
    "        The function expexcts a string and returns a list of strings (where string length is 100) of size 200\n",
    "        (number of partitions). \n",
    "    '''\n",
    "    \n",
    "    try:\n",
    "        \n",
    "        res = [] # where the result will be\n",
    "        beg = 0 # an index for the beginning of the partition\n",
    "        end = 150# an end for the last index we seek\n",
    "        lst_txt = re.split(' ', txt)\n",
    "        for i in range(200):\n",
    "            res.append(' '.join(lst_txt[beg:end]))\n",
    "            beg = end\n",
    "            end += 150\n",
    "           \n",
    "        return res\n",
    "    \n",
    "    except TypeError:\n",
    "        print(\"Please specifiy a string as an argument\")"
   ]
  },
  {
   "cell_type": "code",
   "execution_count": 11,
   "id": "d419f03f",
   "metadata": {},
   "outputs": [],
   "source": [
    "labels=['A', 'B', 'C', 'D', 'E']\n",
    "def MakeDatafram(lst:list, index:int) -> pd.DataFrame:\n",
    "    \n",
    "    '''\n",
    "        The function consumes a list which is the list of text srings of the book and also an integer which is\n",
    "        the index of the book in the all list of books and produces a dataframe that maps the lst \n",
    "        and the index together into two columns.\n",
    "        \n",
    "    '''\n",
    "    df = pd.DataFrame({'Text': lst,'label':[labels[index]]*200})\n",
    "    return df"
   ]
  },
  {
   "cell_type": "code",
   "execution_count": 12,
   "id": "bf7f68db",
   "metadata": {},
   "outputs": [],
   "source": [
    "def StackDataFrames(lst:list) -> pd.DataFrame:\n",
    "    return pd.concat(lst,ignore_index=True)"
   ]
  },
  {
   "cell_type": "code",
   "execution_count": 13,
   "id": "d7a0ff42",
   "metadata": {},
   "outputs": [],
   "source": [
    "def prepare(books: list) -> pd.DataFrame:\n",
    "    '''\n",
    "        1- select 200 random sample of each book, each record is 100 words.\n",
    "        2- Label them.\n",
    "        3- return a DataFrame of all the labeled data.\n",
    "    '''\n",
    "    i = 0\n",
    "    lst_dfs = []\n",
    "    \n",
    "    for book in books:\n",
    "        partition = partitioning(book)\n",
    "        df = MakeDatafram(partition, i)\n",
    "        lst_dfs.append(df)\n",
    "        i += 1\n",
    "    return StackDataFrames(lst_dfs)"
   ]
  },
  {
   "cell_type": "code",
   "execution_count": 14,
   "id": "bb46fe51",
   "metadata": {},
   "outputs": [],
   "source": [
    "def pre_processing(books: list) -> pd.DataFrame:\n",
    "    '''\n",
    "        Aggregate all the preprocessing tasks in one place.\n",
    "    '''\n",
    "    cleaned = cleanUp(books)\n",
    "    without_stop = stopWordRemoval(cleaned)\n",
    "    \n",
    "    return prepare(without_stop)\n"
   ]
  },
  {
   "cell_type": "code",
   "execution_count": 15,
   "id": "7b250456",
   "metadata": {},
   "outputs": [
    {
     "data": {
      "text/plain": [
       "(1000, 2)"
      ]
     },
     "execution_count": 15,
     "metadata": {},
     "output_type": "execute_result"
    }
   ],
   "source": [
    "df = pre_processing(get_books(books))\n",
    "df.shape"
   ]
  },
  {
   "cell_type": "code",
   "execution_count": 16,
   "id": "8979c225",
   "metadata": {},
   "outputs": [],
   "source": [
    "df['Text'] = applay_lemmatization2(df)"
   ]
  },
  {
   "cell_type": "code",
   "execution_count": 17,
   "id": "da9e2036",
   "metadata": {},
   "outputs": [
    {
     "data": {
      "text/html": [
       "<div>\n",
       "<style scoped>\n",
       "    .dataframe tbody tr th:only-of-type {\n",
       "        vertical-align: middle;\n",
       "    }\n",
       "\n",
       "    .dataframe tbody tr th {\n",
       "        vertical-align: top;\n",
       "    }\n",
       "\n",
       "    .dataframe thead th {\n",
       "        text-align: right;\n",
       "    }\n",
       "</style>\n",
       "<table border=\"1\" class=\"dataframe\">\n",
       "  <thead>\n",
       "    <tr style=\"text-align: right;\">\n",
       "      <th></th>\n",
       "      <th>Text</th>\n",
       "      <th>label</th>\n",
       "    </tr>\n",
       "  </thead>\n",
       "  <tbody>\n",
       "    <tr>\n",
       "      <th>0</th>\n",
       "      <td>pride prejudice jane austen use anyone anywher...</td>\n",
       "      <td>A</td>\n",
       "    </tr>\n",
       "    <tr>\n",
       "      <th>1</th>\n",
       "      <td>talk likely may fall love one therefore see oc...</td>\n",
       "      <td>A</td>\n",
       "    </tr>\n",
       "    <tr>\n",
       "      <th>2</th>\n",
       "      <td>twenty mr bennet odd mixture quick part sarcas...</td>\n",
       "      <td>A</td>\n",
       "    </tr>\n",
       "    <tr>\n",
       "      <th>3</th>\n",
       "      <td>one know man really end fortnight venture some...</td>\n",
       "      <td>A</td>\n",
       "    </tr>\n",
       "    <tr>\n",
       "      <th>4</th>\n",
       "      <td>young dare say mr bingley dance next ball oh s...</td>\n",
       "      <td>A</td>\n",
       "    </tr>\n",
       "  </tbody>\n",
       "</table>\n",
       "</div>"
      ],
      "text/plain": [
       "                                                Text label\n",
       "0  pride prejudice jane austen use anyone anywher...     A\n",
       "1  talk likely may fall love one therefore see oc...     A\n",
       "2  twenty mr bennet odd mixture quick part sarcas...     A\n",
       "3  one know man really end fortnight venture some...     A\n",
       "4  young dare say mr bingley dance next ball oh s...     A"
      ]
     },
     "execution_count": 17,
     "metadata": {},
     "output_type": "execute_result"
    }
   ],
   "source": [
    "df.head()"
   ]
  },
  {
   "cell_type": "code",
   "execution_count": 18,
   "id": "03b1c0a6",
   "metadata": {
    "scrolled": true
   },
   "outputs": [
    {
     "name": "stdout",
     "output_type": "stream",
     "text": [
      "(1000,)\n"
     ]
    }
   ],
   "source": [
    "from sklearn.preprocessing import LabelEncoder\n",
    "labelencoder_y = LabelEncoder()\n",
    "y_encoded = df.iloc[:, 1]\n",
    "y=labelencoder_y.fit_transform(y_encoded)\n",
    "print(y.shape)"
   ]
  },
  {
   "cell_type": "code",
   "execution_count": 19,
   "id": "d1553a5b",
   "metadata": {},
   "outputs": [],
   "source": [
    "X_train, X_test, y_train, y_test = train_test_split(df.iloc[:, 0], y, random_state=42)\n",
    "\n",
    "X_train = pd.DataFrame(X_train)\n",
    "y_train = pd.DataFrame(y_train)\n",
    "\n",
    "X_test = pd.DataFrame(X_test)\n",
    "y_test = pd.DataFrame(y_test)\n"
   ]
  },
  {
   "cell_type": "code",
   "execution_count": 20,
   "id": "9cc94ed9",
   "metadata": {},
   "outputs": [],
   "source": [
    "def BOW(df):\n",
    "    all_Partitions = list(df[\"Text\"])\n",
    "    \n",
    "    vectorizer = CountVectorizer(analyzer = \"word\")\n",
    "    bow_matrix = vectorizer.fit(all_Partitions)\n",
    "    feature_names = vectorizer.vocabulary_\n",
    "    \n",
    "    bow_matrix = vectorizer.transform(all_Partitions)\n",
    "    feature_array = bow_matrix.toarray()\n",
    "    \n",
    "    #display(pd.DataFrame(feature_array, columns=feature_names))\n",
    "    #return pd.DataFrame(feature_array, columns=feature_names)\n",
    "    return feature_array"
   ]
  },
  {
   "cell_type": "code",
   "execution_count": 21,
   "id": "9d142054",
   "metadata": {},
   "outputs": [],
   "source": [
    "from sklearn.feature_extraction.text import TfidfVectorizer\n",
    "def TF_IDF(X_train, X_test):\n",
    "    vectorizer = TfidfVectorizer()\n",
    "    X_tf_idf = vectorizer.fit_transform(X_train['Text'])\n",
    "    X_test_tf_idf = vectorizer.fit_transform(X_test['Text'])\n",
    "    return X_tf_idf, X_test_tf_idf"
   ]
  },
  {
   "cell_type": "code",
   "execution_count": 22,
   "id": "9e2791a1",
   "metadata": {},
   "outputs": [],
   "source": [
    "def Transform(X, transformer = 'BOW'):\n",
    "    if transformer == \"BOW\":\n",
    "        return BOW(X)\n",
    "    elif transformer == \"TF-IDF\":\n",
    "        return TF_IDF(X, X_test)\n",
    "    elif transformer == \"LDA\":\n",
    "        pass"
   ]
  },
  {
   "cell_type": "code",
   "execution_count": 23,
   "id": "c04f11d5",
   "metadata": {},
   "outputs": [],
   "source": [
    "from sklearn.cluster import KMeans\n",
    "def K_means(X):\n",
    "    model_km = KMeans(n_clusters=5, init='k-means++', n_init=10, random_state=42)\n",
    "    model_km.fit(X)\n",
    "    y_km = model_km.fit_predict(X)\n",
    "    return model_km, y_km"
   ]
  },
  {
   "cell_type": "code",
   "execution_count": 24,
   "id": "36fb8e4a",
   "metadata": {},
   "outputs": [],
   "source": [
    "def pos_tagger(nltk_tag):\n",
    "    if nltk_tag.startswith('J'):\n",
    "        return wordnet.ADJ\n",
    "    elif nltk_tag.startswith('V'):\n",
    "        return wordnet.VERB\n",
    "    elif nltk_tag.startswith('N'):\n",
    "        return wordnet.NOUN\n",
    "    elif nltk_tag.startswith('R'):\n",
    "        return wordnet.ADV\n",
    "    else:         \n",
    "        return None"
   ]
  },
  {
   "cell_type": "code",
   "execution_count": 25,
   "id": "d100bf06",
   "metadata": {},
   "outputs": [],
   "source": [
    "from sklearn.cluster import AgglomerativeClustering\n",
    "def Agglomorative(X):\n",
    "    model_agg = AgglomerativeClustering(n_clusters=5, affinity = 'euclidean',\n",
    "                                        linkage = 'ward', compute_distances=True)\n",
    "    y_agg_bow = model_agg.fit_predict(X)\n",
    "    return model_agg, y_agg_bow"
   ]
  },
  {
   "cell_type": "code",
   "execution_count": 26,
   "id": "794f1394",
   "metadata": {},
   "outputs": [],
   "source": [
    "def Train(X, algo='k_mean'):\n",
    "    if algo == 'k_mean':\n",
    "        return K_means(X)\n",
    "    elif algo == 'EM':\n",
    "        return EM()\n",
    "    elif algo == 'Agg':\n",
    "        return Agglomorative(X)"
   ]
  },
  {
   "cell_type": "code",
   "execution_count": 27,
   "id": "b75b70c6",
   "metadata": {},
   "outputs": [],
   "source": [
    "from sklearn.decomposition import TruncatedSVD\n",
    "from copy import deepcopy\n",
    "\n",
    "def dim_reduction(X, model, centers=0):\n",
    "    svd = TruncatedSVD(n_components=2, n_iter=7, random_state=42)\n",
    "    \n",
    "    components = svd.fit_transform(X)\n",
    "    components_df = pd.DataFrame(data = components,\n",
    "                columns = ['bow component 1', 'bow component 2'])\n",
    "    if type(centers) == type(0):\n",
    "        centers = svd.transform(model.cluster_centers_)\n",
    "    centers_new = deepcopy(centers)\n",
    "    return centers_new, components_df, components"
   ]
  },
  {
   "cell_type": "code",
   "execution_count": 28,
   "id": "c8859bcb",
   "metadata": {},
   "outputs": [],
   "source": [
    "import matplotlib.pyplot as plt\n",
    "colors = ['b', 'y','r', 'g', 'c']\n",
    "authors = ['a', 'b', 'c', 'd', 'e']\n",
    "\n",
    "def visualizeClusters(components, y_train, centers):\n",
    "    \n",
    "    fig = plt.figure(figsize = (8,8))\n",
    "    ax = fig.add_subplot(1,1,1)\n",
    "    \n",
    "    ax.set_xlabel('1st Component', fontsize = 12)\n",
    "    ax.set_ylabel('2nd Component', fontsize = 12)\n",
    "    ax.set_title('Clusters visualization', fontsize = 18)\n",
    "    \n",
    "    for color, i, target_name in zip(colors, [0, 1, 2, 3, 4],authors):\n",
    "        ax.scatter(components[y_train.iloc[:, 0] == i, 0],\n",
    "                   components[y_train.iloc[:, 0] == i, 1],\n",
    "                   alpha=.8, color=color, label=target_name, s = 20)\n",
    "        #print(y_train.iloc[:, 0] == i)\n",
    "        \n",
    "    ax.legend(loc='best', shadow=False, scatterpoints=1)\n",
    "    #ax.scatter(centers[:,0], centers[:,1], marker='*', c='k',\n",
    "               #label = 'centroid', s=350)"
   ]
  },
  {
   "cell_type": "code",
   "execution_count": 29,
   "id": "80fef1f8",
   "metadata": {},
   "outputs": [],
   "source": [
    "import scipy.cluster.hierarchy as sch\n",
    "def visualizeHierarchy(X, y):\n",
    "    plt.xlim(-15,15)\n",
    "    plt.ylim(-15,15)\n",
    "\n",
    "    dendrogram = sch.dendrogram(sch.linkage(X, method='ward'))\n",
    "\n",
    "    plt.scatter(X[y ==0,0], X[y == 0,1], s=100, c='red')\n",
    "    plt.scatter(X[y ==1,0], X[y == 1,1], s=100, c='yellow')\n",
    "    plt.scatter(X[y ==2,0], X[y == 2,1], s=100, c='blue')\n",
    "    plt.scatter(X[y ==3,0], X[y == 3,1], s=100, c='cyan')\n",
    "    plt.scatter(X[y ==4,0], X[y == 4,1], s=100, c='green')"
   ]
  },
  {
   "cell_type": "code",
   "execution_count": 30,
   "id": "e68a0bd0",
   "metadata": {},
   "outputs": [],
   "source": [
    "from sklearn.metrics import silhouette_score\n",
    "from sklearn.metrics import cohen_kappa_score\n",
    "\n",
    "def Evaluate(y_actual, y_prediction):\n",
    "    kappa = cohen_kappa_score(y_actual, y_prediction)\n",
    "    sil = silhouette_score(y_actual, y_prediction)\n",
    "    indices = ['kappa', 'silhouette']\n",
    "    return pd.DataFrame(data=[kappa, sil], index=indices, columns=['values'])"
   ]
  },
  {
   "cell_type": "markdown",
   "id": "77da6f75",
   "metadata": {},
   "source": [
    "## Transformation / Feature Engineering:  semantics as numbers"
   ]
  },
  {
   "cell_type": "markdown",
   "id": "990161c3",
   "metadata": {},
   "source": [
    "# 1. BOW"
   ]
  },
  {
   "cell_type": "code",
   "execution_count": 31,
   "id": "f97d623e",
   "metadata": {},
   "outputs": [
    {
     "data": {
      "text/plain": [
       "(750, 8384)"
      ]
     },
     "execution_count": 31,
     "metadata": {},
     "output_type": "execute_result"
    }
   ],
   "source": [
    "X_bow = Transform(X_train, transformer=\"BOW\")\n",
    "X_bow.shape"
   ]
  },
  {
   "cell_type": "markdown",
   "id": "06793247",
   "metadata": {},
   "source": [
    "## K-means with BOW"
   ]
  },
  {
   "cell_type": "code",
   "execution_count": 32,
   "id": "9bb7c00e",
   "metadata": {},
   "outputs": [
    {
     "data": {
      "text/plain": [
       "(5, 8384)"
      ]
     },
     "execution_count": 32,
     "metadata": {},
     "output_type": "execute_result"
    }
   ],
   "source": [
    "model_km_bow, y_km_bow = Train(X_bow, algo=\"k_mean\")\n",
    "model_km_bow.cluster_centers_.shape"
   ]
  },
  {
   "cell_type": "code",
   "execution_count": 33,
   "id": "f30ecaa6",
   "metadata": {},
   "outputs": [],
   "source": [
    "Bow_center, Bow_components_df, Bow_components  = dim_reduction(X_bow, model_km_bow)"
   ]
  },
  {
   "cell_type": "code",
   "execution_count": 34,
   "id": "12d730e1",
   "metadata": {},
   "outputs": [
    {
     "data": {
      "image/png": "[encoded data removed]",
      "text/plain": [
       "<Figure size 576x576 with 1 Axes>"
      ]
     },
     "metadata": {
      "needs_background": "light"
     },
     "output_type": "display_data"
    }
   ],
   "source": [
    "visualizeClusters(Bow_components, y_train, Bow_center)"
   ]
  },
  {
   "cell_type": "markdown",
   "id": "92ebeab7",
   "metadata": {},
   "source": [
    "## Evaluation of K-means with BOW\n"
   ]
  },
  {
   "cell_type": "code",
   "execution_count": 35,
   "id": "9eb27c8e",
   "metadata": {},
   "outputs": [
    {
     "data": {
      "text/html": [
       "<div>\n",
       "<style scoped>\n",
       "    .dataframe tbody tr th:only-of-type {\n",
       "        vertical-align: middle;\n",
       "    }\n",
       "\n",
       "    .dataframe tbody tr th {\n",
       "        vertical-align: top;\n",
       "    }\n",
       "\n",
       "    .dataframe thead th {\n",
       "        text-align: right;\n",
       "    }\n",
       "</style>\n",
       "<table border=\"1\" class=\"dataframe\">\n",
       "  <thead>\n",
       "    <tr style=\"text-align: right;\">\n",
       "      <th></th>\n",
       "      <th>values</th>\n",
       "    </tr>\n",
       "  </thead>\n",
       "  <tbody>\n",
       "    <tr>\n",
       "      <th>kappa</th>\n",
       "      <td>-0.171596</td>\n",
       "    </tr>\n",
       "    <tr>\n",
       "      <th>silhouette</th>\n",
       "      <td>0.072979</td>\n",
       "    </tr>\n",
       "  </tbody>\n",
       "</table>\n",
       "</div>"
      ],
      "text/plain": [
       "              values\n",
       "kappa      -0.171596\n",
       "silhouette  0.072979"
      ]
     },
     "execution_count": 35,
     "metadata": {},
     "output_type": "execute_result"
    }
   ],
   "source": [
    "km_bow_eval = Evaluate(y_train, y_km_bow)\n",
    "km_bow_eval"
   ]
  },
  {
   "cell_type": "markdown",
   "id": "60f1ad5f",
   "metadata": {},
   "source": [
    "## Agglomorative Clustering with BOW"
   ]
  },
  {
   "cell_type": "code",
   "execution_count": 36,
   "id": "e624f85a",
   "metadata": {},
   "outputs": [],
   "source": [
    "model_agg_bow, y_agg_bow = Train(X_bow, algo=\"Agg\")"
   ]
  },
  {
   "cell_type": "code",
   "execution_count": 37,
   "id": "7da51bc2",
   "metadata": {},
   "outputs": [
    {
     "data": {
      "image/png": "[encoded data removed]",
      "text/plain": [
       "<Figure size 432x288 with 1 Axes>"
      ]
     },
     "metadata": {
      "needs_background": "light"
     },
     "output_type": "display_data"
    }
   ],
   "source": [
    "visualizeHierarchy(X_bow, y_agg_bow)"
   ]
  },
  {
   "cell_type": "markdown",
   "id": "43c224cf",
   "metadata": {},
   "source": [
    "## Evaluation of Agglomorative with BOW"
   ]
  },
  {
   "cell_type": "code",
   "execution_count": 38,
   "id": "ea15b71e",
   "metadata": {},
   "outputs": [
    {
     "data": {
      "text/html": [
       "<div>\n",
       "<style scoped>\n",
       "    .dataframe tbody tr th:only-of-type {\n",
       "        vertical-align: middle;\n",
       "    }\n",
       "\n",
       "    .dataframe tbody tr th {\n",
       "        vertical-align: top;\n",
       "    }\n",
       "\n",
       "    .dataframe thead th {\n",
       "        text-align: right;\n",
       "    }\n",
       "</style>\n",
       "<table border=\"1\" class=\"dataframe\">\n",
       "  <thead>\n",
       "    <tr style=\"text-align: right;\">\n",
       "      <th></th>\n",
       "      <th>values</th>\n",
       "    </tr>\n",
       "  </thead>\n",
       "  <tbody>\n",
       "    <tr>\n",
       "      <th>kappa</th>\n",
       "      <td>-0.243317</td>\n",
       "    </tr>\n",
       "    <tr>\n",
       "      <th>silhouette</th>\n",
       "      <td>0.335409</td>\n",
       "    </tr>\n",
       "  </tbody>\n",
       "</table>\n",
       "</div>"
      ],
      "text/plain": [
       "              values\n",
       "kappa      -0.243317\n",
       "silhouette  0.335409"
      ]
     },
     "execution_count": 38,
     "metadata": {},
     "output_type": "execute_result"
    }
   ],
   "source": [
    "agg_bow_eval = Evaluate(y_train, y_agg_bow)\n",
    "agg_bow_eval"
   ]
  },
  {
   "cell_type": "markdown",
   "id": "a5b1bd34",
   "metadata": {},
   "source": [
    "## EM Clustering with BOW"
   ]
  },
  {
   "cell_type": "code",
   "execution_count": 39,
   "id": "5d723a8d",
   "metadata": {},
   "outputs": [
    {
     "data": {
      "text/plain": [
       "(750, 8384)"
      ]
     },
     "execution_count": 39,
     "metadata": {},
     "output_type": "execute_result"
    }
   ],
   "source": [
    "from sklearn import mixture\n",
    "gaus_bow = mixture.GaussianMixture(n_components = 5, covariance_type = 'spherical'\n",
    "                                      , max_iter=60)\n",
    "gaus_bow.fit(X_bow)\n",
    "X_bow.shape"
   ]
  },
  {
   "cell_type": "code",
   "execution_count": 40,
   "id": "4bb31569",
   "metadata": {},
   "outputs": [],
   "source": [
    "svd_bow = TruncatedSVD(n_components=2, n_iter=7, random_state=42)\n",
    "    \n",
    "components = svd_bow.fit_transform(X_bow)"
   ]
  },
  {
   "cell_type": "code",
   "execution_count": 41,
   "id": "d5bb2984",
   "metadata": {},
   "outputs": [
    {
     "data": {
      "image/png": "[encoded data removed]",
      "text/plain": [
       "<Figure size 432x288 with 1 Axes>"
      ]
     },
     "metadata": {
      "needs_background": "light"
     },
     "output_type": "display_data"
    }
   ],
   "source": [
    "y_em_bow = gaus_bow.fit_predict(X_bow)\n",
    "plt.scatter(components[:, 0], components[:, 1], c=y_em_bow, cmap='viridis');"
   ]
  },
  {
   "cell_type": "markdown",
   "id": "a4aec323",
   "metadata": {},
   "source": [
    "## Evaluation of EM with BOW"
   ]
  },
  {
   "cell_type": "code",
   "execution_count": 42,
   "id": "68326c67",
   "metadata": {},
   "outputs": [
    {
     "data": {
      "text/html": [
       "<div>\n",
       "<style scoped>\n",
       "    .dataframe tbody tr th:only-of-type {\n",
       "        vertical-align: middle;\n",
       "    }\n",
       "\n",
       "    .dataframe tbody tr th {\n",
       "        vertical-align: top;\n",
       "    }\n",
       "\n",
       "    .dataframe thead th {\n",
       "        text-align: right;\n",
       "    }\n",
       "</style>\n",
       "<table border=\"1\" class=\"dataframe\">\n",
       "  <thead>\n",
       "    <tr style=\"text-align: right;\">\n",
       "      <th></th>\n",
       "      <th>values</th>\n",
       "    </tr>\n",
       "  </thead>\n",
       "  <tbody>\n",
       "    <tr>\n",
       "      <th>kappa</th>\n",
       "      <td>-0.195287</td>\n",
       "    </tr>\n",
       "    <tr>\n",
       "      <th>silhouette</th>\n",
       "      <td>0.199598</td>\n",
       "    </tr>\n",
       "  </tbody>\n",
       "</table>\n",
       "</div>"
      ],
      "text/plain": [
       "              values\n",
       "kappa      -0.195287\n",
       "silhouette  0.199598"
      ]
     },
     "execution_count": 42,
     "metadata": {},
     "output_type": "execute_result"
    }
   ],
   "source": [
    "y_em_bow = gaus_bow.fit_predict(X_bow)\n",
    "em_bow_eval = Evaluate(y_train, y_em_bow)\n",
    "em_bow_eval"
   ]
  },
  {
   "cell_type": "markdown",
   "id": "b85f253a",
   "metadata": {},
   "source": [
    "# 2. TF-IDF"
   ]
  },
  {
   "cell_type": "code",
   "execution_count": 43,
   "id": "a9d3d6cb",
   "metadata": {},
   "outputs": [],
   "source": [
    "X_train_tf_idf, X_test_tf_idf = Transform(X_train, transformer='TF-IDF')"
   ]
  },
  {
   "cell_type": "code",
   "execution_count": 44,
   "id": "c4e529cd",
   "metadata": {},
   "outputs": [
    {
     "data": {
      "text/plain": [
       "(750, 8384)"
      ]
     },
     "execution_count": 44,
     "metadata": {},
     "output_type": "execute_result"
    }
   ],
   "source": [
    "X_train_tf_idf.shape"
   ]
  },
  {
   "cell_type": "markdown",
   "id": "98467947",
   "metadata": {},
   "source": [
    "###  TF-IDF with KMeans"
   ]
  },
  {
   "cell_type": "code",
   "execution_count": 45,
   "id": "e2fc63dc",
   "metadata": {},
   "outputs": [],
   "source": [
    "model_km_tf_idf, y_pred_tf_idf = Train(X_train_tf_idf, algo=\"k_mean\")"
   ]
  },
  {
   "cell_type": "code",
   "execution_count": 46,
   "id": "c6cd9340",
   "metadata": {},
   "outputs": [],
   "source": [
    "tf_center, tf_components_df, tf_components  = dim_reduction(X_train_tf_idf, model_km_tf_idf)"
   ]
  },
  {
   "cell_type": "code",
   "execution_count": 47,
   "id": "74a5abe7",
   "metadata": {},
   "outputs": [
    {
     "data": {
      "image/png": "[encoded data removed]",
      "text/plain": [
       "<Figure size 576x576 with 1 Axes>"
      ]
     },
     "metadata": {
      "needs_background": "light"
     },
     "output_type": "display_data"
    }
   ],
   "source": [
    "visualizeClusters(tf_components, y_train, tf_center)"
   ]
  },
  {
   "cell_type": "markdown",
   "id": "5d344139",
   "metadata": {},
   "source": [
    "## Evaluation of TF-IDF with K-means"
   ]
  },
  {
   "cell_type": "code",
   "execution_count": 48,
   "id": "5f87fe99",
   "metadata": {},
   "outputs": [
    {
     "data": {
      "text/html": [
       "<div>\n",
       "<style scoped>\n",
       "    .dataframe tbody tr th:only-of-type {\n",
       "        vertical-align: middle;\n",
       "    }\n",
       "\n",
       "    .dataframe tbody tr th {\n",
       "        vertical-align: top;\n",
       "    }\n",
       "\n",
       "    .dataframe thead th {\n",
       "        text-align: right;\n",
       "    }\n",
       "</style>\n",
       "<table border=\"1\" class=\"dataframe\">\n",
       "  <thead>\n",
       "    <tr style=\"text-align: right;\">\n",
       "      <th></th>\n",
       "      <th>values</th>\n",
       "    </tr>\n",
       "  </thead>\n",
       "  <tbody>\n",
       "    <tr>\n",
       "      <th>kappa</th>\n",
       "      <td>0.389900</td>\n",
       "    </tr>\n",
       "    <tr>\n",
       "      <th>silhouette</th>\n",
       "      <td>0.360056</td>\n",
       "    </tr>\n",
       "  </tbody>\n",
       "</table>\n",
       "</div>"
      ],
      "text/plain": [
       "              values\n",
       "kappa       0.389900\n",
       "silhouette  0.360056"
      ]
     },
     "execution_count": 48,
     "metadata": {},
     "output_type": "execute_result"
    }
   ],
   "source": [
    "km_tf_eval = Evaluate(y_train, y_pred_tf_idf)\n",
    "km_tf_eval"
   ]
  },
  {
   "cell_type": "markdown",
   "id": "8c963f4f",
   "metadata": {},
   "source": [
    "## TF-IDF with AGGlomerative Clustering"
   ]
  },
  {
   "cell_type": "code",
   "execution_count": 49,
   "id": "81299b03",
   "metadata": {},
   "outputs": [],
   "source": [
    "model_agg_tf, y_agg_tf = Train(X_train_tf_idf.toarray(), algo=\"Agg\")"
   ]
  },
  {
   "cell_type": "code",
   "execution_count": 50,
   "id": "eeab4165",
   "metadata": {},
   "outputs": [
    {
     "data": {
      "image/png": "[encoded data removed]",
      "text/plain": [
       "<Figure size 432x288 with 1 Axes>"
      ]
     },
     "metadata": {
      "needs_background": "light"
     },
     "output_type": "display_data"
    }
   ],
   "source": [
    "visualizeHierarchy(X_train_tf_idf.toarray(), y_agg_tf)"
   ]
  },
  {
   "cell_type": "markdown",
   "id": "4af5257f",
   "metadata": {},
   "source": [
    "## Evaluation of TF-IDF with Agglomerative"
   ]
  },
  {
   "cell_type": "code",
   "execution_count": 51,
   "id": "16b44083",
   "metadata": {},
   "outputs": [
    {
     "data": {
      "text/html": [
       "<div>\n",
       "<style scoped>\n",
       "    .dataframe tbody tr th:only-of-type {\n",
       "        vertical-align: middle;\n",
       "    }\n",
       "\n",
       "    .dataframe tbody tr th {\n",
       "        vertical-align: top;\n",
       "    }\n",
       "\n",
       "    .dataframe thead th {\n",
       "        text-align: right;\n",
       "    }\n",
       "</style>\n",
       "<table border=\"1\" class=\"dataframe\">\n",
       "  <thead>\n",
       "    <tr style=\"text-align: right;\">\n",
       "      <th></th>\n",
       "      <th>values</th>\n",
       "    </tr>\n",
       "  </thead>\n",
       "  <tbody>\n",
       "    <tr>\n",
       "      <th>kappa</th>\n",
       "      <td>-0.250086</td>\n",
       "    </tr>\n",
       "    <tr>\n",
       "      <th>silhouette</th>\n",
       "      <td>0.335061</td>\n",
       "    </tr>\n",
       "  </tbody>\n",
       "</table>\n",
       "</div>"
      ],
      "text/plain": [
       "              values\n",
       "kappa      -0.250086\n",
       "silhouette  0.335061"
      ]
     },
     "execution_count": 51,
     "metadata": {},
     "output_type": "execute_result"
    }
   ],
   "source": [
    "agg_tf_eval = Evaluate(y_train, y_agg_tf)\n",
    "agg_tf_eval"
   ]
  },
  {
   "cell_type": "markdown",
   "id": "09c1f325",
   "metadata": {},
   "source": [
    "## TF-IDF with EM"
   ]
  },
  {
   "cell_type": "code",
   "execution_count": 52,
   "id": "bdb562ac",
   "metadata": {},
   "outputs": [
    {
     "data": {
      "text/plain": [
       "GaussianMixture(covariance_type='spherical', max_iter=60, n_components=5)"
      ]
     },
     "execution_count": 52,
     "metadata": {},
     "output_type": "execute_result"
    }
   ],
   "source": [
    "from sklearn import mixture\n",
    "gaus_tf = mixture.GaussianMixture(n_components = 5, covariance_type = 'spherical'\n",
    "                                      , max_iter=60)\n",
    "gaus_tf.fit(X_train_tf_idf.toarray())"
   ]
  },
  {
   "cell_type": "code",
   "execution_count": 53,
   "id": "5890bc62",
   "metadata": {},
   "outputs": [],
   "source": [
    "svd_tf = TruncatedSVD(n_components=2, n_iter=7, random_state=42)\n",
    "    \n",
    "components = svd_tf.fit_transform(X_bow)"
   ]
  },
  {
   "cell_type": "code",
   "execution_count": 54,
   "id": "f6369069",
   "metadata": {},
   "outputs": [
    {
     "data": {
      "image/png": "[encoded data removed]",
      "text/plain": [
       "<Figure size 432x288 with 1 Axes>"
      ]
     },
     "metadata": {
      "needs_background": "light"
     },
     "output_type": "display_data"
    }
   ],
   "source": [
    "y_em_tf = gaus_tf.fit_predict(X_train_tf_idf.toarray())\n",
    "plt.scatter(components[:, 0], components[:, 1], c=y_em_tf, cmap='viridis');"
   ]
  },
  {
   "cell_type": "code",
   "execution_count": 55,
   "id": "563c6c78",
   "metadata": {},
   "outputs": [
    {
     "data": {
      "text/html": [
       "<div>\n",
       "<style scoped>\n",
       "    .dataframe tbody tr th:only-of-type {\n",
       "        vertical-align: middle;\n",
       "    }\n",
       "\n",
       "    .dataframe tbody tr th {\n",
       "        vertical-align: top;\n",
       "    }\n",
       "\n",
       "    .dataframe thead th {\n",
       "        text-align: right;\n",
       "    }\n",
       "</style>\n",
       "<table border=\"1\" class=\"dataframe\">\n",
       "  <thead>\n",
       "    <tr style=\"text-align: right;\">\n",
       "      <th></th>\n",
       "      <th>values</th>\n",
       "    </tr>\n",
       "  </thead>\n",
       "  <tbody>\n",
       "    <tr>\n",
       "      <th>kappa</th>\n",
       "      <td>0.018478</td>\n",
       "    </tr>\n",
       "    <tr>\n",
       "      <th>silhouette</th>\n",
       "      <td>0.286806</td>\n",
       "    </tr>\n",
       "  </tbody>\n",
       "</table>\n",
       "</div>"
      ],
      "text/plain": [
       "              values\n",
       "kappa       0.018478\n",
       "silhouette  0.286806"
      ]
     },
     "execution_count": 55,
     "metadata": {},
     "output_type": "execute_result"
    }
   ],
   "source": [
    "em_tf_eval = Evaluate(y_train, y_em_tf)\n",
    "em_tf_eval"
   ]
  },
  {
   "cell_type": "markdown",
   "id": "c42ebdbf",
   "metadata": {},
   "source": [
    "# 3. LDA"
   ]
  },
  {
   "cell_type": "code",
   "execution_count": 56,
   "id": "ddc46e17",
   "metadata": {},
   "outputs": [],
   "source": [
    "def doc_relation_rate(lda_top , num):\n",
    "    print(\"Doc \",num,\": \")\n",
    "    for i,topic in enumerate(lda_top[num]):\n",
    "        print(\"Author \",i+1,\": \",topic*100,\"%\")"
   ]
  },
  {
   "cell_type": "code",
   "execution_count": 57,
   "id": "56f2a7ef",
   "metadata": {},
   "outputs": [],
   "source": [
    "def topic_Modeling():\n",
    "    vocab = vectorizer.get_feature_names()\n",
    "\n",
    "    for i, comp in enumerate(lda_model.components_):\n",
    "        vocab_comp = zip(vocab, comp)\n",
    "        sorted_words = sorted(vocab_comp, key= lambda x:x[1], reverse=True)[:20]\n",
    "        print(\"Author \"+str(i+1)+\": \")\n",
    "        for t in sorted_words:\n",
    "            print(t[0],end=\" \")\n",
    "        print(\"\\n\")"
   ]
  },
  {
   "cell_type": "code",
   "execution_count": 58,
   "id": "664af7ca",
   "metadata": {},
   "outputs": [],
   "source": [
    "vectorizer = CountVectorizer(analyzer='word',       \n",
    "                             min_df=1,                        # minimum reqd occurences of a word \n",
    "                             stop_words='english',             # remove stop words\n",
    "                             lowercase=True,                   # convert all words to lowercase\n",
    "                             token_pattern='[a-zA-Z0-9]{3,}',  # num chars > 3\n",
    "                             # max_features=50000,             # max number of uniq words\n",
    "                            )\n",
    "\n",
    "train_vectorized = vectorizer.fit_transform(X_train['Text'])"
   ]
  },
  {
   "cell_type": "code",
   "execution_count": 59,
   "id": "743560f4",
   "metadata": {},
   "outputs": [
    {
     "name": "stdout",
     "output_type": "stream",
     "text": [
      "LatentDirichletAllocation(learning_method='online', n_components=5, n_jobs=-1,\n",
      "                          random_state=100)\n"
     ]
    }
   ],
   "source": [
    "from sklearn.decomposition import LatentDirichletAllocation\n",
    "lda_model = LatentDirichletAllocation( \n",
    "                                      n_components=5, max_iter=10, learning_method='online',   \n",
    "                                      random_state=100, batch_size=128,            \n",
    "                                      evaluate_every = -1, n_jobs = -1,)\n",
    "lda_output = lda_model.fit_transform(train_vectorized)\n",
    "\n",
    "print(lda_model) "
   ]
  },
  {
   "cell_type": "code",
   "execution_count": 60,
   "id": "a9d09e52",
   "metadata": {},
   "outputs": [
    {
     "name": "stdout",
     "output_type": "stream",
     "text": [
      "Doc  300 : \n",
      "Author  1 :  0.17005379061107312 %\n",
      "Author  2 :  0.16811843814328659 %\n",
      "Author  3 :  0.17098387201793525 %\n",
      "Author  4 :  0.17349744343562157 %\n",
      "Author  5 :  99.31734645579209 %\n"
     ]
    }
   ],
   "source": [
    "doc_relation_rate(lda_output,300)"
   ]
  },
  {
   "cell_type": "code",
   "execution_count": 61,
   "id": "60103bb3",
   "metadata": {},
   "outputs": [
    {
     "name": "stdout",
     "output_type": "stream",
     "text": [
      "Author 1: \n",
      "conception object time intuition priori pure representation cognition experience understand mean phenomenon empirical principle space possible thing reason unity relation \n",
      "\n",
      "Author 2: \n",
      "smuggle stuyvesant schuylkill nicolls inflame almanacs madness prying dispense warehouse transaction dwelling stamped overpower eloquence townsman disagreeable instantly deny newcastle \n",
      "\n",
      "Author 3: \n",
      "new time make body distance colony great force state light event general point washington british say earth observer law american \n",
      "\n",
      "Author 4: \n",
      "print block colour use cut key work line paper printing design wood make japanese form knife impression paste plate sheet \n",
      "\n",
      "Author 5: \n",
      "say elizabeth darcy bingley miss think jane bennet make sister know lady work collins young time great good soon wish \n",
      "\n"
     ]
    }
   ],
   "source": [
    "topic_Modeling()"
   ]
  },
  {
   "cell_type": "markdown",
   "id": "02620bb0",
   "metadata": {},
   "source": [
    "### GridSearch for our LDA"
   ]
  },
  {
   "cell_type": "code",
   "execution_count": null,
   "id": "77445144",
   "metadata": {},
   "outputs": [],
   "source": [
    "from sklearn.model_selection import GridSearchCV\n",
    "search_params = {'n_components': [5], 'learning_decay': [.5, .7, .9]}\n",
    "model = GridSearchCV(lda_model, param_grid=search_params)\n",
    "model.fit(train_vectorized)"
   ]
  },
  {
   "cell_type": "code",
   "execution_count": null,
   "id": "5fa938b0",
   "metadata": {},
   "outputs": [],
   "source": [
    "GridSearchCV(cv=None, error_score='raise',\n",
    "       estimator=LatentDirichletAllocation(batch_size=128, doc_topic_prior=None,\n",
    "             evaluate_every=-1, learning_decay=0.7, learning_method=None,\n",
    "             learning_offset=10.0, max_doc_update_iter=100, max_iter=10,\n",
    "             mean_change_tol=0.001, n_components=5, n_jobs=1,perp_tol=0.1,\n",
    "             random_state=None,\n",
    "             topic_word_prior=None, total_samples=1000000.0, verbose=0), n_jobs=1,\n",
    "       param_grid={'n_topics': [4], 'learning_decay': [0.5, 0.7, 0.9]},\n",
    "       pre_dispatch='2*n_jobs', refit=True, return_train_score='warn',\n",
    "       scoring=None, verbose=0)"
   ]
  },
  {
   "cell_type": "code",
   "execution_count": null,
   "id": "bcc551eb",
   "metadata": {},
   "outputs": [],
   "source": [
    "best_lda_model = model.best_estimator_\n",
    "\n",
    "print(\"Best Model's Params: \", model.best_params_)\n",
    "\n",
    "print(\"Best Log Likelihood Score: \", model.best_score_)\n",
    "\n",
    "print(\"Model Perplexity: \", best_lda_model.perplexity(train_vectorized))"
   ]
  },
  {
   "cell_type": "markdown",
   "id": "83408179",
   "metadata": {},
   "source": [
    "## some topic modeling and investigation"
   ]
  },
  {
   "cell_type": "code",
   "execution_count": null,
   "id": "70faf8b5",
   "metadata": {},
   "outputs": [],
   "source": [
    "lda_output = best_lda_model.transform(train_vectorized)\n",
    "topicnames = [\"Author\" + str(i+1) for i in range(best_lda_model.n_components)]\n",
    "docnames = [\"Doc\" + str(i+1) for i in range(len(X_train['Text']))]\n",
    "df_document_topic = pd.DataFrame(np.round(lda_output, 2), columns=topicnames, index=docnames)\n",
    "dominant_topic = np.argmax(df_document_topic.values, axis=1)\n",
    "df_document_topic['dominant_Author'] = dominant_topic\n",
    "\n",
    "\n",
    "def color_green(val):\n",
    "    color = 'green' if val > .1 else 'black'\n",
    "    return 'color: {col}'.format(col=color)\n",
    "\n",
    "def make_bold(val):\n",
    "    weight = 700 if val > .1 else 400\n",
    "    return 'font-weight: {weight}'.format(weight=weight)\n",
    "\n",
    "# Apply Style\n",
    "df_document_topics = df_document_topic.head(15).style.applymap(color_green).applymap(make_bold)\n",
    "df_document_topics"
   ]
  },
  {
   "cell_type": "code",
   "execution_count": null,
   "id": "b98b10ab",
   "metadata": {},
   "outputs": [],
   "source": [
    "df_topic_keywords = pd.DataFrame(best_lda_model.components_)\n",
    "df_topic_keywords.columns = vectorizer.get_feature_names()\n",
    "df_topic_keywords.index = topicnames\n",
    "df_topic_keywords.head()"
   ]
  },
  {
   "cell_type": "code",
   "execution_count": null,
   "id": "c9e7d915",
   "metadata": {},
   "outputs": [],
   "source": [
    "def show_topics(vectorizer=vectorizer, lda_model=lda_model, n_words=20):\n",
    "    keywords = np.array(vectorizer.get_feature_names())\n",
    "    topic_keywords = []\n",
    "    for topic_weights in lda_model.components_:\n",
    "        top_keyword_locs = (-topic_weights).argsort()[:n_words]\n",
    "        topic_keywords.append(keywords.take(top_keyword_locs))\n",
    "    return topic_keywords\n",
    "\n",
    "topic_keywords = show_topics(vectorizer=vectorizer, lda_model=best_lda_model, n_words=15)        \n",
    "\n",
    "# Topic - Keywords Dataframe\n",
    "df_topic_keywords = pd.DataFrame(topic_keywords)\n",
    "df_topic_keywords.columns = ['Word '+str(i) for i in range(df_topic_keywords.shape[1])]\n",
    "df_topic_keywords.index = ['Topic '+str(i) for i in range(df_topic_keywords.shape[0])]\n",
    "df_topic_keywords"
   ]
  },
  {
   "cell_type": "markdown",
   "id": "a82828d5",
   "metadata": {},
   "source": [
    "## LDA with K-means"
   ]
  },
  {
   "cell_type": "code",
   "execution_count": null,
   "id": "91308769",
   "metadata": {},
   "outputs": [],
   "source": [
    "lda_output.shape, train_vectorized.shape"
   ]
  },
  {
   "cell_type": "code",
   "execution_count": null,
   "id": "60f908c6",
   "metadata": {},
   "outputs": [],
   "source": [
    "from sklearn.cluster import KMeans\n",
    "model_km_lda = KMeans(n_clusters=5)\n",
    "model_km_lda.fit(train_vectorized)\n",
    "y_km_lda = model_km_bow.fit_predict(train_vectorized)"
   ]
  },
  {
   "cell_type": "code",
   "execution_count": null,
   "id": "84050295",
   "metadata": {},
   "outputs": [],
   "source": [
    "from sklearn.decomposition import TruncatedSVD\n",
    "from copy import deepcopy\n",
    "lda_SVD = TruncatedSVD(n_components=2, random_state=42)\n",
    "lda_Components = lda_SVD.fit_transform(train_vectorized)\n",
    "lda_centers = lda_SVD.transform(model_km_lda.cluster_centers_)\n",
    "\n",
    "centers_lda = deepcopy(lda_Components)"
   ]
  },
  {
   "cell_type": "code",
   "execution_count": null,
   "id": "d4a754dd",
   "metadata": {},
   "outputs": [],
   "source": [
    "import matplotlib.pyplot as plt\n",
    "fig = plt.figure(figsize = (8,8))\n",
    "ax = fig.add_subplot(1,1,1)\n",
    "ax.set_xlabel('lda Component 1', fontsize = 10)\n",
    "ax.set_ylabel('lda Component 2', fontsize = 10)\n",
    "ax.set_title('2lda component PCA', fontsize = 15)\n",
    "\n",
    "colors = ['b', 'y','r', 'g', 'c']  \n",
    "for color, i, target_name in zip(colors, [0, 1, 2, 3, 4],['a', 'b', 'c', 'd','e']):\n",
    "    ax.scatter(lda_Components[y_train.iloc[:,0] == i, 0], lda_Components[y_train.iloc[:,0] == i, 1],\n",
    "               alpha=.8, color=color, label=target_name, s = 10)"
   ]
  },
  {
   "cell_type": "code",
   "execution_count": null,
   "id": "212bebe8",
   "metadata": {},
   "outputs": [],
   "source": [
    "km_lda_eval = Evaluate(y_train, y_km_lda)\n",
    "km_lda_eval"
   ]
  },
  {
   "cell_type": "markdown",
   "id": "5dd54380",
   "metadata": {},
   "source": [
    "## LDA with EM"
   ]
  },
  {
   "cell_type": "code",
   "execution_count": null,
   "id": "8404928e",
   "metadata": {},
   "outputs": [],
   "source": [
    "n_components = np.arange(1, 6)\n",
    "models = [mixture.GaussianMixture(n, covariance_type='full', random_state=42).fit(lda_output)\n",
    "          for n in n_components]"
   ]
  },
  {
   "cell_type": "code",
   "execution_count": null,
   "id": "eb717faf",
   "metadata": {},
   "outputs": [],
   "source": [
    "plt.plot(n_components, [m.bic(lda_output) for m in models], label='BIC')\n",
    "plt.plot(n_components, [m.aic(lda_output) for m in models], label='AIC')\n",
    "plt.legend(loc='best')\n",
    "plt.xlabel('n_components');"
   ]
  },
  {
   "cell_type": "code",
   "execution_count": null,
   "id": "ba930fb6",
   "metadata": {},
   "outputs": [],
   "source": [
    "gmm = mixture.GaussianMixture(n_components=5)\n",
    "gmm.fit(lda_output)\n",
    "\n",
    "labels = gmm.predict(lda_output)\n",
    "plt.scatter(lda_Components[:, 0], lda_Components[:, 1], c=labels, cmap='viridis');"
   ]
  },
  {
   "cell_type": "code",
   "execution_count": null,
   "id": "80410161",
   "metadata": {},
   "outputs": [],
   "source": [
    "em_lda_eval = Evaluate(y_train, labels)\n",
    "em_lda_eval"
   ]
  },
  {
   "cell_type": "markdown",
   "id": "86cfc58b",
   "metadata": {},
   "source": [
    "## LDA with Aglomerative clustering"
   ]
  },
  {
   "cell_type": "code",
   "execution_count": null,
   "id": "07ae4465",
   "metadata": {},
   "outputs": [],
   "source": [
    "model_lda_agg, pred_lda_agg = Train(lda_output, algo='Agg')"
   ]
  },
  {
   "cell_type": "code",
   "execution_count": null,
   "id": "d8a62edd",
   "metadata": {},
   "outputs": [],
   "source": [
    "visualizeHierarchy(lda_output, pred_lda_agg)"
   ]
  },
  {
   "cell_type": "code",
   "execution_count": null,
   "id": "f6d8742e",
   "metadata": {},
   "outputs": [],
   "source": [
    "agg_lda_eval = Evaluate(y_train, pred_lda_agg)\n",
    "agg_lda_eval"
   ]
  },
  {
   "cell_type": "markdown",
   "id": "914c8516",
   "metadata": {},
   "source": [
    "### LDA with gensim"
   ]
  },
  {
   "cell_type": "code",
   "execution_count": null,
   "id": "70f67625",
   "metadata": {},
   "outputs": [],
   "source": [
    "def towords(sentences):\n",
    "    for sentence in sentences:\n",
    "        yield(gensim.utils.simple_preprocess(str(sentence)))"
   ]
  },
  {
   "cell_type": "code",
   "execution_count": null,
   "id": "d32adb87",
   "metadata": {},
   "outputs": [],
   "source": [
    "data_words = list(towords(df['Text']))"
   ]
  },
  {
   "cell_type": "code",
   "execution_count": null,
   "id": "e3db2d81",
   "metadata": {},
   "outputs": [],
   "source": [
    "id2word = corpora.Dictionary(data_words)\n",
    "texts = data_words\n",
    "corpus = [id2word.doc2bow(text) for text in texts]#TF"
   ]
  },
  {
   "cell_type": "code",
   "execution_count": null,
   "id": "e0d0ca4c",
   "metadata": {},
   "outputs": [],
   "source": [
    "def LDA_Model(corpus,id2word):\n",
    "    num_topics = 5\n",
    "    # Build LDA model\n",
    "    lda = gensim.models.LdaMulticore(corpus=corpus,id2word=id2word,num_topics=5,random_state=12345,chunksize=100,per_word_topics=True)\n",
    "    pprint(lda.print_topics())\n",
    "    doc_lda = lda[corpus]\n",
    "    return lda"
   ]
  },
  {
   "cell_type": "code",
   "execution_count": null,
   "id": "8c4a47b4",
   "metadata": {},
   "outputs": [],
   "source": [
    "pyLDAvis.enable_notebook()\n",
    "LDAvis_prepared = gensimvis.prepare(LDA_Model(corpus,id2word), corpus, id2word)\n",
    "LDAvis_prepared"
   ]
  },
  {
   "cell_type": "markdown",
   "id": "8636e4a0",
   "metadata": {},
   "source": [
    "# Best model"
   ]
  },
  {
   "cell_type": "code",
   "execution_count": null,
   "id": "61e14d17",
   "metadata": {},
   "outputs": [],
   "source": [
    "t = km_bow_eval, em_bow_eval, agg_bow_eval, km_tf_eval, em_tf_eval, agg_tf_eval, km_lda_eval, em_lda_eval, agg_lda_eval\n",
    "cols = ['BOW + kmean', 'BOW + EM', 'BOW + Agg', 'TF-IDF + Kmean', 'TF-IDF + EM',\n",
    "        'TF-IDF + Agg', 'LDA + Kmean', 'LDA + EM', 'LDA + Agg']\n",
    "l = pd.DataFrame()\n",
    "l= pd.concat(t, axis=1)\n",
    "l.columns = cols\n",
    "l"
   ]
  },
  {
   "cell_type": "code",
   "execution_count": null,
   "id": "95451d5c",
   "metadata": {},
   "outputs": [],
   "source": [
    "from sklearn.metrics import adjusted_rand_score as ars\n",
    "all_ys = [y_km_bow, y_em_bow, y_agg_bow, y_pred_tf_idf, y_em_tf, y_agg_tf, y_km_lda, labels, pred_lda_agg]\n",
    "\n",
    "all_rand_scores = []\n",
    "for item in all_ys:\n",
    "    all_rand_scores.append(ars(np.array(y_train).reshape(750,), item))\n",
    "\n",
    "plt.bar([i for i in range(9)], all_rand_scores)\n",
    "plt.xticks([i for i in range(9)], cols, rotation=90)\n",
    "plt.ylabel(\"rand_Score\")\n",
    "plt.title('Rand_Score for all models')\n",
    "plt.show()"
   ]
  },
  {
   "cell_type": "markdown",
   "id": "c3fe85aa",
   "metadata": {},
   "source": [
    "# Error Analysis: a closer investigation"
   ]
  },
  {
   "cell_type": "markdown",
   "id": "03592686",
   "metadata": {},
   "source": [
    "Let us visualize the BOW+K-means model to see again where are the clusters that overlap"
   ]
  },
  {
   "cell_type": "code",
   "execution_count": null,
   "id": "34b2ebd2",
   "metadata": {},
   "outputs": [],
   "source": [
    "visualizeClusters(Bow_components, y_train, Bow_center)"
   ]
  },
  {
   "cell_type": "code",
   "execution_count": null,
   "id": "079caa7f",
   "metadata": {},
   "outputs": [],
   "source": [
    "from wordcloud import WordCloud, STOPWORDS, ImageColorGenerator\n",
    "\n",
    "def text_of_partition(X, y, j):\n",
    "    text = ''\n",
    "    for i in range(X.shape[0]):\n",
    "        if y.iloc[i, 0] == j:\n",
    "            text += X.iloc[i,0]\n",
    "    return text\n",
    "text1 = text_of_partition(X_train,y_train, 0)\n",
    "text2 = text_of_partition(X_train,y_train, 1)\n",
    "text3 = text_of_partition(X_train,y_train, 2)\n",
    "text4 = text_of_partition(X_train,y_train, 3)\n",
    "text5 = text_of_partition(X_train,y_train, 4)\n"
   ]
  },
  {
   "cell_type": "code",
   "execution_count": null,
   "id": "d2bc2ed7",
   "metadata": {},
   "outputs": [],
   "source": [
    "wordcloud1 = WordCloud().generate(text1)\n",
    "wordcloud2 = WordCloud().generate(text2)\n",
    "wordcloud3 = WordCloud().generate(text3)\n",
    "wordcloud4 = WordCloud().generate(text4)\n",
    "wordcloud5 = WordCloud().generate(text5)\n",
    "wordclouds = [wordcloud1, wordcloud2, wordcloud3, wordcloud4, wordcloud5]\n"
   ]
  },
  {
   "cell_type": "code",
   "execution_count": null,
   "id": "fe6618ad",
   "metadata": {},
   "outputs": [],
   "source": [
    "import matplotlib as mpl\n",
    "fig = plt.figure(figsize=(10, 8))\n",
    "spec = mpl.gridspec.GridSpec(ncols=6, nrows=2) # 6 columns evenly divides both 2 & 3\n",
    "\n",
    "ax1 = fig.add_subplot(spec[0,0:2]) # row 0 with axes spanning 2 cols on evens\n",
    "ax2 = fig.add_subplot(spec[0,2:4])\n",
    "ax3 = fig.add_subplot(spec[0,4:])\n",
    "ax4 = fig.add_subplot(spec[1,1:3]) # row 0 with axes spanning 2 cols on odds\n",
    "ax5 = fig.add_subplot(spec[1,3:5])\n",
    "ax1.imshow(wordclouds[0])\n",
    "ax2.imshow(wordclouds[1])\n",
    "ax3.imshow(wordclouds[2])\n",
    "ax4.imshow(wordclouds[3])\n",
    "ax5.imshow(wordclouds[4])\n"
   ]
  },
  {
   "cell_type": "markdown",
   "id": "d30b0b5c",
   "metadata": {},
   "source": [
    "#### Our model makes most of its mistakes on the following clsuters\n",
    "1. Clsuter 2.\n",
    "2. Cluster 5."
   ]
  },
  {
   "cell_type": "code",
   "execution_count": null,
   "id": "ca412bd2",
   "metadata": {},
   "outputs": [],
   "source": [
    "plt.subplot()\n",
    "plt.imshow(wordcloud2, interpolation='bilinear')\n",
    "plt.axis(\"off\")\n",
    "plt.show()"
   ]
  },
  {
   "cell_type": "code",
   "execution_count": null,
   "id": "c2755083",
   "metadata": {},
   "outputs": [],
   "source": [
    "plt.subplot()\n",
    "plt.imshow(wordcloud5, interpolation='bilinear')\n",
    "plt.axis(\"off\")\n",
    "plt.show()"
   ]
  },
  {
   "cell_type": "code",
   "execution_count": null,
   "id": "94ac3875",
   "metadata": {},
   "outputs": [],
   "source": []
  }
 ],
 "metadata": {
  "kernelspec": {
   "display_name": "Python 3 (ipykernel)",
   "language": "python",
   "name": "python3"
  },
  "language_info": {
   "codemirror_mode": {
    "name": "ipython",
    "version": 3
   },
   "file_extension": ".py",
   "mimetype": "text/x-python",
   "name": "python",
   "nbconvert_exporter": "python",
   "pygments_lexer": "ipython3",
   "version": "3.9.7"
  }
 },
 "nbformat": 4,
 "nbformat_minor": 5
}
